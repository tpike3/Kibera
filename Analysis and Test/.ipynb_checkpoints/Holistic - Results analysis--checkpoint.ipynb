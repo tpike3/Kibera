{
 "cells": [
  {
   "cell_type": "code",
   "execution_count": null,
   "metadata": {
    "collapsed": true
   },
   "outputs": [],
   "source": [
    "import pandas as pd\n",
    "import numpy as np\n",
    "import matplotlib.pyplot as plt\n",
    "import matplotlib.animation as animation\n",
    "#import seaborn as sns\n",
    "%matplotlib inline\n"
   ]
  },
  {
   "cell_type": "code",
   "execution_count": null,
   "metadata": {
    "collapsed": true
   },
   "outputs": [],
   "source": [
    "def update_run(df_n, runner):\n",
    "    run_list = []\n",
    "    for i in range(45):\n",
    "        runner += 1\n",
    "        for n in range(20):\n",
    "            run_list.append(runner)\n",
    "        \n",
    "    run = pd.Series(run_list)\n",
    "    df_n[\"Run\"] = run\n",
    "    return df_n, runner"
   ]
  },
  {
   "cell_type": "markdown",
   "metadata": {},
   "source": [
    "## Results 1 for 20 days over numerous parameters ---need to update results path"
   ]
  },
  {
   "cell_type": "code",
   "execution_count": null,
   "metadata": {
    "collapsed": false
   },
   "outputs": [],
   "source": [
    "filename =[\"C:\\\\Users\\\\ymamo\\\\Kibera\\\\Results\\\\Kianda Output2_2535.csv\",\\\n",
    "           \"C:\\\\Users\\\\ymamo\\\\Kibera\\\\Results\\\\Kianda Output1_4050.csv\", \n",
    "          \"C:\\\\Users\\\\ymamo\\\\Kibera\\\\Results\\\\Kianda Output2_4050.csv\"] \n",
    "df=pd.read_csv(\"C:\\\\Users\\\\ymamo\\\\Kibera\\\\Results\\\\Kianda Output1_2535.csv\")\n",
    "runner = 45\n",
    "for f in filename:\n",
    "    print (runner)\n",
    "    df_n = pd.read_csv(f)\n",
    "    df_n, runner = update_run(df_n, runner)\n",
    "    df= pd.concat([df, df_n])\n",
    "    "
   ]
  },
  {
   "cell_type": "markdown",
   "metadata": {},
   "source": [
    "## Results Two for 80 days - overides 20 days previous cell  ---- need to update results path"
   ]
  },
  {
   "cell_type": "code",
   "execution_count": null,
   "metadata": {
    "collapsed": true
   },
   "outputs": [],
   "source": [
    "df = pd.read_csv((\"C:\\\\Users\\\\ymamo\\\\Kibera\\\\Results\\\\Kianda Output.csv\"))"
   ]
  },
  {
   "cell_type": "code",
   "execution_count": null,
   "metadata": {
    "collapsed": false
   },
   "outputs": [],
   "source": [
    "df = df[df[\"Day\"] != 1]\n",
    "df = df[df[\"Day\"] != 2]\n",
    "#df = df[(df['Day'] >= 3) & (df[\"Day\"] <= 8)]\n",
    "df[df[\"Probability\"] == .9]"
   ]
  },
  {
   "cell_type": "markdown",
   "metadata": {},
   "source": [
    "# CALCULATE MEALS"
   ]
  },
  {
   "cell_type": "code",
   "execution_count": null,
   "metadata": {
    "collapsed": false
   },
   "outputs": [],
   "source": [
    "# get key stats by run \n",
    "\n",
    "#df = df[df[\"Day\"]>=]\n",
    "\n",
    "\n",
    "meals = {}\n",
    "'''\n",
    "Iterate through rows creates list of list with idx 0 being 3 melas, idx 1 being 2 meals ...'''\n",
    "for row in df.iterrows(): \n",
    "    if row[1][\"Run\"] in  meals.keys():\n",
    "        if row[1][\"Day\"] > 0:\n",
    "            meals[row[1][\"Run\"]][0].append(row[1][\"3 Meals\"])\n",
    "            meals[row[1][\"Run\"]][1].append(row[1][\"2 Meals\"])\n",
    "            meals[row[1][\"Run\"]][2].append(row[1][\"1 Meal\"])\n",
    "            meals[row[1][\"Run\"]][3].append(row[1][\"0 Meals\"])\n",
    "    else: \n",
    "        if row[1][\"Day\"] > 0: \n",
    "            meals[row[1][\"Run\"]] = [[],[],[],[]]\n",
    "            meals[row[1][\"Run\"]][0].append(row[1][\"3 Meals\"])\n",
    "            meals[row[1][\"Run\"]][1].append(row[1][\"2 Meals\"])\n",
    "            meals[row[1][\"Run\"]][2].append(row[1][\"1 Meal\"])\n",
    "            meals[row[1][\"Run\"]][3].append(row[1][\"0 Meals\"])\n",
    "'''\n",
    "  Format Key = Run, Value = [meals 3, meals 2, meals1, meals 0] in list of lists\n",
    "'''  \n",
    "\n",
    "meals[1]"
   ]
  },
  {
   "cell_type": "code",
   "execution_count": null,
   "metadata": {
    "collapsed": true
   },
   "outputs": [],
   "source": [
    "meals_plot = {}\n",
    "\n",
    "''' Iterate through meals dictionary and calcultae percentage of each meal eaten versus total'''\n",
    "for k,v in meals.items():\n",
    "    total = sum(v[0]) + sum(v[1]) + sum(v[2]) + sum(v[3])\n",
    "    meal3 = sum(v[0])/total\n",
    "    meal2 = sum(v[1])/total\n",
    "    meal1 = sum(v[2])/total\n",
    "    meal0 = sum(v[3])/total\n",
    "    meals_plot[k] = [meal3, meal2, meal1, meal0]\n",
    "#meals_plot"
   ]
  },
  {
   "cell_type": "code",
   "execution_count": null,
   "metadata": {
    "collapsed": false
   },
   "outputs": [],
   "source": [
    "run_rank = []\n",
    "target3 = .411\n",
    "target2 = .375\n",
    "target1 = .211\n",
    "\n",
    "for k,v in meals_plot.items(): \n",
    "    run = []\n",
    "    run.append(abs(target3 -v[0]))\n",
    "    run.append(abs(target2 - v[1]))\n",
    "    run.append(abs(target1 - (v[2]+v[3])))\n",
    "    run.append(sum(run))\n",
    "    run.append(k)\n",
    "    run_rank.append(run)\n",
    "    \n",
    "    \n",
    "run_rank.sort(key=lambda x: x[3])\n",
    "run_rank"
   ]
  },
  {
   "cell_type": "markdown",
   "metadata": {},
   "source": [
    "# CALCULATE VARIETY"
   ]
  },
  {
   "cell_type": "code",
   "execution_count": null,
   "metadata": {
    "collapsed": false
   },
   "outputs": [],
   "source": [
    "# get key stats by run \n",
    "\n",
    "#df = df[df[\"Day\"]> 3]\n",
    "\n",
    "\n",
    "variety = {}\n",
    "for row in df.iterrows(): \n",
    "    if row[1][\"Run\"] in  variety.keys():\n",
    "        if row[1][\"Day\"] > 0:\n",
    "            variety[row[1][\"Run\"]][0].append(row[1][\"Variety 4\"])\n",
    "            variety[row[1][\"Run\"]][1].append(row[1][\"Variety 3\"])\n",
    "            variety[row[1][\"Run\"]][2].append(row[1][\"Variety 2\"])\n",
    "            \n",
    "    else: \n",
    "        if row[1][\"Day\"] >= 0: \n",
    "            variety[row[1][\"Run\"]] = [[],[],[]]\n",
    "            variety[row[1][\"Run\"]][0].append(row[1][\"Variety 4\"])\n",
    "            variety[row[1][\"Run\"]][1].append(row[1][\"Variety 3\"])\n",
    "            variety[row[1][\"Run\"]][2].append(row[1][\"Variety 2\"])\n",
    "            \n",
    "'''\n",
    "  Format Key = Run, Value = [meals 3, meals 2, meals1, meals 0] in list of lists\n",
    "'''  \n",
    "\n",
    "#variety"
   ]
  },
  {
   "cell_type": "code",
   "execution_count": null,
   "metadata": {
    "collapsed": true
   },
   "outputs": [],
   "source": [
    "variety_plot = {}\n",
    "\n",
    "for k,v in variety.items():\n",
    "    total = sum(v[0]) + sum(v[1]) + sum(v[2]) \n",
    "    var4 = sum(v[0])/total\n",
    "    var3 = sum(v[1])/total\n",
    "    var2 = sum(v[2])/total\n",
    "    variety_plot[k] = [var4, var3, var2]\n",
    "#variety_plot"
   ]
  },
  {
   "cell_type": "code",
   "execution_count": null,
   "metadata": {
    "collapsed": false
   },
   "outputs": [],
   "source": [
    "var_rank = []\n",
    "vtarget4 = .654\n",
    "vtarget3 = .346\n",
    "#vtarget2 = .222\n",
    "\n",
    "for k,v in variety_plot.items(): \n",
    "    run = []\n",
    "    run.append(abs(vtarget4 -v[0]))\n",
    "    run.append(abs(vtarget3 - (v[1]+v[2])))\n",
    "    #run.append(abs(target1 - v[2]))\n",
    "    run.append(sum(run))\n",
    "    run.append(k)\n",
    "    var_rank.append(run)\n",
    "    \n",
    "              \n",
    "var_rank.sort(key=lambda x: x[2])\n",
    "var_rank\n",
    "        "
   ]
  },
  {
   "cell_type": "markdown",
   "metadata": {},
   "source": [
    "# Calcuate Child Labor"
   ]
  },
  {
   "cell_type": "markdown",
   "metadata": {},
   "source": [
    "## For Results 2 not results 1 -- otherwise will throw error"
   ]
  },
  {
   "cell_type": "code",
   "execution_count": null,
   "metadata": {
    "collapsed": false
   },
   "outputs": [],
   "source": [
    "# get key stats by run \n",
    "\n",
    "\n",
    "\n",
    "child = {}\n",
    "for row in df.iterrows(): \n",
    "    if row[1][\"Run\"] in  child.keys():\n",
    "        if row[1][\"Day\"] > 0:\n",
    "            child[row[1][\"Run\"]].append(row[1][\"Child 2\"])\n",
    "            \n",
    "    else: \n",
    "        if row[1][\"Day\"] >= 0: \n",
    "            child[row[1][\"Run\"]] = []\n",
    "            child[row[1][\"Run\"]].append(row[1][\"Child 2\"])\n",
    "            #print (child)\n",
    "            \n",
    "            \n",
    "'''\n",
    "  Format Key = Run, Value = [child labor] in list of lists\n",
    "'''  \n",
    "child"
   ]
  },
  {
   "cell_type": "markdown",
   "metadata": {},
   "source": [
    "## For Results one (results over numerous parameters)"
   ]
  },
  {
   "cell_type": "code",
   "execution_count": null,
   "metadata": {
    "collapsed": false
   },
   "outputs": [],
   "source": [
    "# get key stats by run \n",
    "\n",
    "\n",
    "\n",
    "child = {}\n",
    "for row in df.iterrows(): \n",
    "    if row[1][\"Run\"] in  child.keys():\n",
    "        if row[1][\"Day\"] > 0:\n",
    "            child[row[1][\"Run\"]].append(row[1][\"Child Labor\"])\n",
    "            \n",
    "    else: \n",
    "        if row[1][\"Day\"] >= 0: \n",
    "            child[row[1][\"Run\"]] = []\n",
    "            child[row[1][\"Run\"]].append(row[1][\"Child Labor\"])\n",
    "            #print (child)\n",
    "            \n",
    "            \n",
    "'''\n",
    "  Format Key = Run, Value = [child labor] in list of lists\n",
    "'''  \n",
    "child"
   ]
  },
  {
   "cell_type": "code",
   "execution_count": null,
   "metadata": {
    "collapsed": false
   },
   "outputs": [],
   "source": [
    "labor_rank = []\n",
    "ctarget = .37\n",
    "cclose = [0,1000]\n",
    "\n",
    "for k,v in child.items(): \n",
    "    run = []\n",
    "    sig = 0\n",
    "    for res in v:\n",
    "        sig += (res -ctarget)**2\n",
    "    run.append((sig/(len(v)-1)))\n",
    "    #run.append(abs((sum(v)/len(v)) - ctarget))\n",
    "    run.append(k)\n",
    "    labor_rank.append(run)\n",
    "        \n",
    "labor_rank.sort(key = lambda x: x[0])\n",
    "labor_rank\n",
    "        \n",
    "    "
   ]
  },
  {
   "cell_type": "markdown",
   "metadata": {},
   "source": [
    "# Meal Cost"
   ]
  },
  {
   "cell_type": "code",
   "execution_count": null,
   "metadata": {
    "collapsed": false
   },
   "outputs": [],
   "source": [
    "# get key stats by run \n",
    "\n",
    "\n",
    "\n",
    "meal = {}\n",
    "for row in df.iterrows(): \n",
    "    if row[1][\"Run\"] in  meal.keys():\n",
    "        if row[1][\"Day\"] > 0:\n",
    "            meal[row[1][\"Run\"]].append(row[1][\"Meal Cost\"])\n",
    "            \n",
    "    else: \n",
    "        if row[1][\"Day\"] >= 0: \n",
    "            meal[row[1][\"Run\"]] = []\n",
    "            meal[row[1][\"Run\"]].append(row[1][\"Meal Cost\"])\n",
    "            \n",
    "            \n",
    "            \n",
    "'''\n",
    "  Format Key = Run, Value = [Meal Cost] in list of lists\n",
    "'''  \n",
    "meal[1]"
   ]
  },
  {
   "cell_type": "code",
   "execution_count": null,
   "metadata": {
    "collapsed": false
   },
   "outputs": [],
   "source": [
    "meal_plot ={}\n",
    "for k,v in meal.items(): \n",
    "    meal_plot[k] = sum(v)/len(v)\n",
    "meal_plot"
   ]
  },
  {
   "cell_type": "code",
   "execution_count": null,
   "metadata": {
    "collapsed": false
   },
   "outputs": [],
   "source": [
    "print (run_rank)\n",
    "print (var_rank[0])\n",
    "print (labor_rank[0])\n",
    "#print (cost_rank[0])"
   ]
  },
  {
   "cell_type": "code",
   "execution_count": null,
   "metadata": {
    "collapsed": false
   },
   "outputs": [],
   "source": [
    "keeper = {}\n",
    "def test_lowest(rankings):\n",
    "    ranker = []\n",
    "    for i in rankings: \n",
    "         if i[-1] not in keeper.keys(): \n",
    "            keeper[i[-1]] = []\n",
    "            keeper[i[-1]].append(rankings.index(i))\n",
    "         else: \n",
    "            keeper[i[-1]].append(rankings.index(i))\n",
    "\n",
    "res = [run_rank, var_rank, labor_rank]\n",
    "\n",
    "for r in res: \n",
    "    test_lowest(r)\n",
    "\n",
    "for k,v in keeper.items(): \n",
    "    keeper[k].append(sum(v))\n",
    "    \n",
    "ranked_runs = []\n",
    "\n",
    "for k,v in keeper.items(): \n",
    "    ranked_runs.append([k,v[-1], v[:-1]])\n",
    "ranked_runs.sort(key = lambda x:x[1])\n",
    "\n",
    "ranked_runs"
   ]
  },
  {
   "cell_type": "code",
   "execution_count": null,
   "metadata": {
    "collapsed": false
   },
   "outputs": [],
   "source": [
    "for i in range(len(ranked_runs)): \n",
    "    if ranked_runs[i][0] == 52: \n",
    "        print (i)\n",
    "ranked_runs[52]"
   ]
  },
  {
   "cell_type": "markdown",
   "metadata": {},
   "source": [
    "# Plots"
   ]
  },
  {
   "cell_type": "code",
   "execution_count": null,
   "metadata": {
    "collapsed": false
   },
   "outputs": [],
   "source": [
    "#Plot the closest\n",
    "\n",
    "\n",
    "plot = meals_plot[ranked_runs[57][0]]\n",
    "fig, ax= plt.subplots(figsize=(10,10))\n",
    "ax.set_title(\"Meals Per Day\", fontsize = 18, fontweight = 'bold')\n",
    "ax.set_xticks(np.arange(1,5))\n",
    "ax.set_xticklabels([\"3 Meals\", \"2 Meals\", \"1 Meal\", \"0 Meals\"])\n",
    "ax.bar(np.arange(1,5), [plot[0], plot[1], plot[2], plot[3]], color= \"g\")\n",
    "ax.text(3,.32, \"n Meals = Model / Target \\n3 Meals  = \" + str(round(plot[0]*100)) +\"% / 41.1%\\n2 Meals = \" + str(round(plot[1]*100)) + \"% / 37.4%\\n0-1 Meals = \" \\\n",
    "       + str(round((plot[2]+plot[3])*100)) +\"% / 21.5%\", fontsize = 14, fontweight = 'bold')\n"
   ]
  },
  {
   "cell_type": "code",
   "execution_count": null,
   "metadata": {
    "collapsed": false
   },
   "outputs": [],
   "source": [
    "plot = variety_plot[ranked_runs[75][0]]\n",
    "fig, ax= plt.subplots(figsize=(10,10))\n",
    "#fig.suptitle(\"Kianda Population Patterns\", fontsize=14, fontweight='bold') \n",
    "ax.set_title(\"Food Variety\", fontsize = 18, fontweight = 'bold')\n",
    "ax.set_xticks(np.arange(1,4))\n",
    "ax.set_xticklabels([\"4 Variety\", \"3 Variety\", \"2 Variety\"])\n",
    "ax.bar(np.arange(1,4), [plot[0], plot[1], plot[2]], color= \"b\")\n",
    "ax.text(2 ,.4, \"Variety n = Model/Target \\n4 Variety = \" + str(round(plot[0]*100)) +\"% / 65.5% \\n< 4 Variety = \" \\\n",
    "        + str(round((plot[1]+plot[2])*100)) + \"% /34.6%\", \\\n",
    "        fontsize = 14, fontweight = 'bold')\n"
   ]
  },
  {
   "cell_type": "code",
   "execution_count": null,
   "metadata": {
    "collapsed": false
   },
   "outputs": [],
   "source": [
    "y = child[ranked_runs[0][0]]\n",
    "x  = np.arange(1, len(y)+1)\n",
    "y2 = [.37] * (len(y))\n",
    "fig, ax= plt.subplots(figsize=(10,10))\n",
    "#fig.suptitle(\"Kianda Population Patterns\", fontsize=14, fontweight='bold') \n",
    "ax.set_title(\"Child Labor\", fontsize = 18, fontweight = 'bold')\n",
    "#ax.set_xticks(np.arange(1,3))\n",
    "ax.set_xlabel(\"Days\", fontsize = 14, fontweight = 'bold')\n",
    "ax.set_ylabel(\"Percent Labor\", fontsize = 14, fontweight = 'bold')\n",
    "ax.plot(x,y,'b', label = \"Model\")\n",
    "ax.plot(x,y2,\"r--\", label = \"Target\")\n",
    "plt.legend(loc=4)\n"
   ]
  },
  {
   "cell_type": "code",
   "execution_count": null,
   "metadata": {
    "collapsed": false
   },
   "outputs": [],
   "source": [
    "#calculate what mean should be based on consumption\n",
    "\n",
    "y = meal[ranked_runs[0][0]]\n",
    "x  = np.arange(1, len(y)+1)\n",
    "#y2 = [costtarget] * (len(y))\n",
    "fig, ax= plt.subplots(figsize=(10,10))\n",
    "#fig.suptitle(\"Kianda Population Patterns\", fontsize=14, fontweight='bold') \n",
    "ax.set_title(\"Meal Cost\", fontsize = 14, fontweight = 'bold')\n",
    "ax.set_ylim(0,1500)\n",
    "ax.set_xlabel(\"Days\")\n",
    "ax.set_ylabel(\"Cost\")\n",
    "ax.plot(x,y,'b', label = \"Model\")\n",
    "#ax.plot(x,y2,\"r--\", label = \"Target\")\n",
    "#plt.legend()\n"
   ]
  },
  {
   "cell_type": "markdown",
   "metadata": {},
   "source": [
    "# Variance by Model Parameter"
   ]
  },
  {
   "cell_type": "code",
   "execution_count": null,
   "metadata": {
    "collapsed": true
   },
   "outputs": [],
   "source": [
    "def mul_var(meal_list):\n",
    "    final_list = []\n",
    "    for i in range(len(meal_list)):\n",
    "        final_list.append([meal_list[i]])\n",
    "    #print (final_list)\n",
    "    return final_list"
   ]
  },
  {
   "cell_type": "code",
   "execution_count": null,
   "metadata": {
    "collapsed": false
   },
   "outputs": [],
   "source": [
    "param_dict = {}\n",
    "run_list = []\n",
    "for row in df.iterrows(): \n",
    "    idx = (row[1][\"Pay Multiplier\"], row[1][\"Probability\"])\n",
    "    #print (sum(child[row[1][\"Run\"]])/len(child[row[1][\"Run\"]]))\n",
    "    if idx in param_dict.keys() and row[1][\"Run\"] not in run_list: \n",
    "        for i in range(4):\n",
    "            param_dict[idx][0][i].append(meals_plot[row[1][\"Run\"]][i])\n",
    "        for i in range(3):\n",
    "            param_dict[idx][1][i].append(variety_plot[row[1][\"Run\"]][i])\n",
    "        param_dict[idx][2].append(sum(child[row[1][\"Run\"]])/len(child[row[1][\"Run\"]]))\n",
    "        param_dict[idx][3].append(meal_plot[row[1][\"Run\"]])\n",
    "                                                                           \n",
    "    else: \n",
    "        run_list.append(row[1][\"Run\"])\n",
    "        param_dict[idx] = {}        \n",
    "        param_dict[idx] = [mul_var(meals_plot[row[1][\"Run\"]]), mul_var(variety_plot[row[1][\"Run\"]]),\\\n",
    "                           [sum(child[row[1][\"Run\"]])/len(child[row[1][\"Run\"]])],[meal_plot[row[1][\"Run\"]]]]\n",
    "param_dict"
   ]
  },
  {
   "cell_type": "code",
   "execution_count": null,
   "metadata": {
    "collapsed": false
   },
   "outputs": [],
   "source": [
    "variance = {\"Variance in Meals 3\": 0, \"Variance in Variety 4\": 0, \"Variance in Child Labor\": 0, \"Variance in Meal Cost\": 0,\\\n",
    "           \"Variance in Meals 2\": 0, \"Variance in Variety 3\" : 0, \"Variance in Meals 2\": 0, \"Variance in Meals 1\": 0, \n",
    "           \"Variance in Meals 0\": 0, \"Variance in Variety 2\": 0 }\n",
    "for k,v in param_dict.items(): \n",
    "    #print (v)\n",
    "    variance[\"Variance in Meals 3\"] = np.var(v[0][0])\n",
    "    variance[\"Variance in Meals 2\"] = np.var(v[0][1])\n",
    "    variance[\"Variance in Meals 1\"] = np.var(v[0][2])\n",
    "    variance[\"Variance in Meals 0\"] = np.var(v[0][3])\n",
    "    variance[\"Variance in Variety 4\"] = np.var(v[1][0])\n",
    "    variance[\"Variance in Variety 3\"] = np.var(v[1][1])\n",
    "    variance[\"Variance in Variety 2\"] = np.var(v[1][2])\n",
    "    variance[\"Variance in Child Labor\"] = np.var(v[2])\n",
    "    variance[\"Variance in Meal Cost\"] = np.var(v[3])\n",
    "\n",
    "variance"
   ]
  },
  {
   "cell_type": "markdown",
   "metadata": {},
   "source": [
    "# Additional Data Metrics"
   ]
  },
  {
   "cell_type": "code",
   "execution_count": null,
   "metadata": {
    "collapsed": false
   },
   "outputs": [],
   "source": [
    "x = []\n",
    "y = []\n",
    "\n",
    "for i in var_rank:\n",
    "    x.append(i[3])\n",
    "    y.append(i[2])\n",
    "m = sum(y)/len(y)\n",
    "m2 = [m for z in range(len(x))]\n",
    "fig, ax= plt.subplots(figsize=(10,10))\n",
    "plt.ylim(0, 10)\n",
    "ax.scatter(x,y)\n",
    "ax.plot(x,m2)\n",
    "ax.set_title(\"Variance in Meal Variety by Model Run\", fontsize = 22, fontweight = 'bold')\n",
    "ax.set_xlabel(\"Run Number\", fontsize = 14)\n",
    "ax.set_ylabel(\"Mean of Variation\", fontsize = 18)\n"
   ]
  },
  {
   "cell_type": "code",
   "execution_count": null,
   "metadata": {
    "collapsed": false
   },
   "outputs": [],
   "source": [
    "x = []\n",
    "y = []\n",
    "\n",
    "for i in run_rank:\n",
    "    x.append(i[4])\n",
    "    y.append(i[3])\n",
    "m = sum(y)/len(y)\n",
    "m2 = [m for z in range(len(x))]\n",
    "fig, ax= plt.subplots(figsize=(10,10))\n",
    "plt.ylim(0,5)\n",
    "ax.scatter(x,y)\n",
    "ax.plot(x,m2)\n",
    "ax.set_title(\"Variance in Number of Meals by Model Run\", fontsize = 22, fontweight = 'bold')\n",
    "ax.set_xlabel(\"Run Number\", fontsize = 14)\n",
    "ax.set_ylabel(\"Mean of Variation\", fontsize = 18)\n",
    "\n"
   ]
  },
  {
   "cell_type": "code",
   "execution_count": null,
   "metadata": {
    "collapsed": false
   },
   "outputs": [],
   "source": [
    "x = []\n",
    "y = []\n",
    "\n",
    "for i in run_rank:\n",
    "    x.append(i[4])\n",
    "    y.append(i[3])\n",
    "m = sum(y)/len(y)\n",
    "m2 = [m for z in range(len(x))]\n",
    "fig, ax= plt.subplots(figsize=(10,10))\n",
    "plt.ylim(0,2)\n",
    "ax.scatter(x,y)\n",
    "ax.plot(x,m2)\n",
    "ax.set_title(\"Variance in Number of Meals by Model Run\", fontsize = 22, fontweight = 'bold')\n",
    "ax.set_xlabel(\"Run Number\", fontsize = 14)\n",
    "ax.set_ylabel(\"Mean of Variation\", fontsize = 18)\n",
    "\n"
   ]
  },
  {
   "cell_type": "code",
   "execution_count": null,
   "metadata": {
    "collapsed": false
   },
   "outputs": [],
   "source": [
    "x = []\n",
    "y = []\n",
    "\n",
    "for i in labor_rank:\n",
    "    x.append(i[1])\n",
    "    y.append(i[0])\n",
    "m = sum(y)/len(y)\n",
    "m2 = [m for z in range(len(x))]\n",
    "fig, ax= plt.subplots(figsize=(10,10))\n",
    "plt.ylim(0, 1)\n",
    "ax.scatter(x,y)\n",
    "ax.plot(x,m2)\n",
    "ax.set_title(\"Variance in Child Labor by Model Run\", fontsize = 22, fontweight = 'bold')\n",
    "ax.set_xlabel(\"Run Number\", fontsize = 14)\n",
    "ax.set_ylabel(\"Mean of Variation\", fontsize = 18)"
   ]
  },
  {
   "cell_type": "code",
   "execution_count": null,
   "metadata": {
    "collapsed": false
   },
   "outputs": [],
   "source": [
    "agent_meal = {}\n",
    "for row in df.iterrows():\n",
    "    #print (row[0])\n",
    "    distro = eval(row[1][\"Meal Distro\"])\n",
    "    #print (type(distro))\n",
    "    #stop\n",
    "    if row[1][\"Run\"] in agent_meal.keys(): \n",
    "        for a in distro:\n",
    "            agent_meal[row[1][\"Run\"]][a[0]].append(a[1]/a[2])\n",
    "    else: \n",
    "        agent_meal[row[1][\"Run\"]] = {}\n",
    "        for a in distro: \n",
    "            #print (a)\n",
    "            agent_meal[row[1][\"Run\"]][a[0]] = [a[1]/a[2]]\n"
   ]
  },
  {
   "cell_type": "code",
   "execution_count": null,
   "metadata": {
    "collapsed": true
   },
   "outputs": [],
   "source": [
    "agent_spent = {}\n",
    "for k,v in agent_meal.items(): \n",
    "    agent_spent[k] = {}\n",
    "    for k2,v2 in v.items(): \n",
    "        agent_spent[k][k2] = np.mean(v2)\n",
    "agent_spent[1]\n",
    "len(agent_spent[1].keys())"
   ]
  },
  {
   "cell_type": "code",
   "execution_count": null,
   "metadata": {
    "collapsed": false
   },
   "outputs": [],
   "source": [
    "prime = ranked_runs[0][0]\n",
    "agent_distro2 = {}\n",
    "for k,v in agent_spent.items(): \n",
    "    agent_distro2[k] = []\n",
    "    for i in v.values():\n",
    "        agent_distro2[k].append(i)\n",
    "    agent_distro2[k].sort()\n",
    "sum(agent_distro2[prime])/len(agent_distro2[prime])"
   ]
  },
  {
   "cell_type": "code",
   "execution_count": null,
   "metadata": {
    "collapsed": false
   },
   "outputs": [],
   "source": [
    "y = agent_distro2[prime]\n",
    "x = [i for i in range(len(y))]\n",
    "fig, ax= plt.subplots(figsize=(10,10))\n",
    "ax.plot(x,y)\n"
   ]
  },
  {
   "cell_type": "code",
   "execution_count": null,
   "metadata": {
    "collapsed": false
   },
   "outputs": [],
   "source": [
    "print (sum(y)/len(y))\n",
    "plt.hist(y,10)"
   ]
  },
  {
   "cell_type": "code",
   "execution_count": null,
   "metadata": {
    "collapsed": false
   },
   "outputs": [],
   "source": [
    "df[\"Steal\"].plot()"
   ]
  },
  {
   "cell_type": "markdown",
   "metadata": {
    "collapsed": true
   },
   "source": [
    "# Wealth Distro"
   ]
  },
  {
   "cell_type": "code",
   "execution_count": null,
   "metadata": {
    "collapsed": true
   },
   "outputs": [],
   "source": [
    "agent_wealth = {}\n",
    "for row in df.iterrows():\n",
    "    #print (row[0])\n",
    "    distro = eval(row[1][\"Wealth Distro\"])\n",
    "    #print (type(distro))\n",
    "    #stop\n",
    "    if row[1][\"Run\"] in agent_wealth.keys(): \n",
    "        for a in distro:\n",
    "            agent_wealth[row[1][\"Run\"]][a[0]].append(a[1])\n",
    "    else: \n",
    "        agent_wealth[row[1][\"Run\"]] = {}\n",
    "        for a in distro: \n",
    "            #print (a)\n",
    "            agent_wealth[row[1][\"Run\"]][a[0]] = [a[1]]\n"
   ]
  },
  {
   "cell_type": "code",
   "execution_count": null,
   "metadata": {
    "collapsed": false
   },
   "outputs": [],
   "source": [
    "agent_wspent = {}\n",
    "for k,v in agent_wealth.items(): \n",
    "    agent_wspent[k] = {}\n",
    "    for k2,v2 in v.items(): \n",
    "        agent_wspent[k][k2] = np.mean(v2)\n",
    "#agent_wspent[1]\n",
    "len(agent_wspent[1].keys())"
   ]
  },
  {
   "cell_type": "code",
   "execution_count": null,
   "metadata": {
    "collapsed": false
   },
   "outputs": [],
   "source": [
    "prime = ranked_runs[0][0]\n",
    "agent_wdistro2 = {}\n",
    "for k,v in agent_wspent.items(): \n",
    "    agent_wdistro2[k] = []\n",
    "    for i in v.values():\n",
    "        agent_wdistro2[k].append(i)\n",
    "    agent_wdistro2[k].sort()\n",
    "sum(agent_wdistro2[prime])/len(agent_wdistro2[prime])"
   ]
  },
  {
   "cell_type": "code",
   "execution_count": null,
   "metadata": {
    "collapsed": false
   },
   "outputs": [],
   "source": [
    "y = agent_wdistro2[prime]\n",
    "x = [i for i in range(len(y))]\n",
    "fig, ax= plt.subplots(figsize=(10,10))\n",
    "ax.plot(x,y)\n"
   ]
  },
  {
   "cell_type": "code",
   "execution_count": null,
   "metadata": {
    "collapsed": false
   },
   "outputs": [],
   "source": [
    "fig, ax= plt.subplots(figsize=(10,10))\n",
    "ax.set_title(\"Wealth Distribution of Agents\", fontsize = 18, fontweight = 'bold')\n",
    "ax.set_xlabel(\"Wealth\", fontsize = 16)\n",
    "ax.set_ylabel(\"Frequency\", fontsize = 16)\n",
    "plt.hist(y,60)"
   ]
  },
  {
   "cell_type": "code",
   "execution_count": null,
   "metadata": {
    "collapsed": true
   },
   "outputs": [],
   "source": []
  },
  {
   "cell_type": "code",
   "execution_count": null,
   "metadata": {
    "collapsed": true
   },
   "outputs": [],
   "source": []
  }
 ],
 "metadata": {
  "kernelspec": {
   "display_name": "Python 3",
   "language": "python",
   "name": "python3"
  },
  "language_info": {
   "codemirror_mode": {
    "name": "ipython",
    "version": 3
   },
   "file_extension": ".py",
   "mimetype": "text/x-python",
   "name": "python",
   "nbconvert_exporter": "python",
   "pygments_lexer": "ipython3",
   "version": "3.6.6"
  }
 },
 "nbformat": 4,
 "nbformat_minor": 2
}
